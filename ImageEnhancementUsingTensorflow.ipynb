{
 "cells": [
  {
   "cell_type": "code",
   "execution_count": 15,
   "metadata": {},
   "outputs": [],
   "source": [
    "import tensorflow as tf\n",
    "from PIL import Image\n",
    "import numpy as np\n",
    "import cv2\n",
    "import matplotlib.pyplot as plt\n",
    "from tensorflow.python.ops import io_ops\n",
    "import math\n",
    "import time"
   ]
  },
  {
   "cell_type": "markdown",
   "metadata": {},
   "source": [
    "## Histogram Equalization"
   ]
  },
  {
   "cell_type": "code",
   "execution_count": 14,
   "metadata": {},
   "outputs": [],
   "source": [
    "#Histogram Equalization using tensorflow\n",
    "def tf_equalize_histogram(image):\n",
    "    values_range = tf.constant([0., 255.], dtype = tf.float32)\n",
    "    histogram = tf.histogram_fixed_width(tf.cast(image,tf.float32), values_range, 256)\n",
    "    cdf = tf.cumsum(histogram)\n",
    "    cdf_min = cdf[tf.reduce_min(tf.where(tf.greater(cdf, 0)))]\n",
    "\n",
    "    img_shape = tf.shape(image)\n",
    "    pix_cnt = img_shape[-3] * img_shape[-2]\n",
    "    px_map = tf.round(tf.cast(cdf - cdf_min,tf.float32) * 255. / tf.cast(pix_cnt - 1,tf.float32))\n",
    "    px_map = tf.cast(px_map, tf.uint8)\n",
    "\n",
    "    eq_hist = tf.expand_dims(tf.gather_nd(px_map, tf.cast(image, tf.int32)), 2)\n",
    "    return eq_hist\n",
    "\n",
    "image_ph = tf.placeholder(tf.uint8, shape = [None, None, 1])\n",
    "image_eq_hist = tf_equalize_histogram(image_ph) \n",
    "\n",
    "\n",
    "\n",
    "image = cv2.imread(\"bio0000_frame0000001.jpg\", 0)\n",
    "image = np.reshape(image, (image.shape[0], image.shape[1], 1))\n",
    "with tf.Session() as sess:\n",
    "    sess.run(tf.global_variables_initializer())\n",
    "    image_eq_hist_ = sess.run(image_eq_hist, feed_dict = {image_ph : image})\n",
    "\n",
    "cv2.imshow(\"Histogram Equalization using opencv\", cv2.equalizeHist(image))\n",
    "\n",
    "cv2.imshow(\"Histogram Equalization using tensorflow\", image_eq_hist_)\n",
    "cv2.waitKey()\n",
    "cv2.destroyAllWindows()\n"
   ]
  },
  {
   "cell_type": "markdown",
   "metadata": {},
   "source": [
    "## Otsu Thresholding"
   ]
  },
  {
   "cell_type": "code",
   "execution_count": 20,
   "metadata": {},
   "outputs": [],
   "source": [
    "def Otsu_thresholding(gray):\n",
    "    \n",
    "    var = np.var(gray)\n",
    "    mean = np.mean(gray)\n",
    "    n = gray.shape[0]*gray.shape[1]  # total number of img pixels\n",
    "    within_class_variances = []\n",
    "    \n",
    "    q = 0 \n",
    "    mu1 = 0\n",
    "    for t in range(254):\n",
    "        p = np.count_nonzero(gray == t+1)/n\n",
    "        mu1 = (q*mu1) + ((t+1)*p)\n",
    "        q = q + p\n",
    "        mu1 /= q\n",
    "        mu2 = (mean - (q*mu1))/(1-q)\n",
    "        \n",
    "        between_class_variance = q*(1-q)*(mu1-mu2)**2\n",
    "        within_class_variances.append(var-between_class_variance)\n",
    "        \n",
    "    threshold = within_class_variances.index(min(within_class_variances))\n",
    "    print('threshold value by Otsu method: ' + str(threshold))\n",
    "    \n",
    "    cv2.imshow('Grayscale Image',gray)\n",
    "    cv2.waitKey()\n",
    "    cv2.destroyAllWindows()\n",
    "    \n",
    "    \n",
    "    thresholded_img = np.zeros((gray.shape)).astype(np.uint8)\n",
    "    indxs = np.where(gray >= threshold)\n",
    "    for i,j in zip(indxs[0],indxs[1]):\n",
    "        thresholded_img[i,j] = 255\n",
    "    \n",
    "    cv2.imshow('thresholded_img',thresholded_img)\n",
    "    cv2.waitKey()\n",
    "    cv2.destroyAllWindows()\n",
    "    "
   ]
  },
  {
   "cell_type": "code",
   "execution_count": 21,
   "metadata": {},
   "outputs": [
    {
     "name": "stdout",
     "output_type": "stream",
     "text": [
      "threshold value by Otsu method: 125\n"
     ]
    }
   ],
   "source": [
    "Otsu_thresholding(image_eq_hist_)"
   ]
  },
  {
   "cell_type": "code",
   "execution_count": null,
   "metadata": {},
   "outputs": [],
   "source": []
  }
 ],
 "metadata": {
  "kernelspec": {
   "display_name": "Python 3",
   "language": "python",
   "name": "python3"
  },
  "language_info": {
   "codemirror_mode": {
    "name": "ipython",
    "version": 3
   },
   "file_extension": ".py",
   "mimetype": "text/x-python",
   "name": "python",
   "nbconvert_exporter": "python",
   "pygments_lexer": "ipython3",
   "version": "3.7.6"
  }
 },
 "nbformat": 4,
 "nbformat_minor": 4
}
